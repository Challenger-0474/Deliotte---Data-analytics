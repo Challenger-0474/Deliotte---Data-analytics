{
  "nbformat": 4,
  "nbformat_minor": 0,
  "metadata": {
    "colab": {
      "provenance": []
    },
    "kernelspec": {
      "name": "python3",
      "display_name": "Python 3"
    },
    "language_info": {
      "name": "python"
    }
  },
  "cells": [
    {
      "cell_type": "code",
      "source": [
        "import pandas as pd\n",
        "\n",
        "#  Read the Excel file\n",
        "try:\n",
        "    df = pd.read_excel(\"Task 5 Equality Table.xlsx\")  #  Or the full path if needed\n",
        "    print(\"Excel file read successfully!\")\n",
        "    print(df.head(10))  #  Display the first few rows\n",
        "    print(\"-------------------------------------------------------------------------------\")\n",
        "    print(df.info())\n",
        "except FileNotFoundError:\n",
        "    print(\"Error: File not found. Please check the filename and path.\")\n",
        "except Exception as e:\n",
        "    print(f\"An error occurred: {e}\")"
      ],
      "metadata": {
        "colab": {
          "base_uri": "https://localhost:8080/"
        },
        "id": "Rd7fdiuBEtSS",
        "outputId": "302a0096-eec0-4baf-81be-220031f3a3d8"
      },
      "execution_count": null,
      "outputs": [
        {
          "output_type": "stream",
          "name": "stdout",
          "text": [
            "Excel file read successfully!\n",
            "                 Factory             Job Role  Equality Score  Equality class\n",
            "0  Daikibo Factory Meiyo              C-Level             -25             NaN\n",
            "1  Daikibo Factory Meiyo                   VP             -26             NaN\n",
            "2  Daikibo Factory Meiyo             Director             -19             NaN\n",
            "3  Daikibo Factory Meiyo          Sr. Manager             -15             NaN\n",
            "4  Daikibo Factory Meiyo              Manager             -14             NaN\n",
            "5  Daikibo Factory Meiyo          Jr. Manager             -20             NaN\n",
            "6  Daikibo Factory Meiyo         Sr. Engineer              -5             NaN\n",
            "7  Daikibo Factory Meiyo             Engineer              -8             NaN\n",
            "8  Daikibo Factory Meiyo         Jr. Engineer               3             NaN\n",
            "9  Daikibo Factory Meiyo  Operational Support             -22             NaN\n",
            "-------------------------------------------------------------------------------\n",
            "<class 'pandas.core.frame.DataFrame'>\n",
            "RangeIndex: 37 entries, 0 to 36\n",
            "Data columns (total 4 columns):\n",
            " #   Column          Non-Null Count  Dtype  \n",
            "---  ------          --------------  -----  \n",
            " 0   Factory         37 non-null     object \n",
            " 1   Job Role        37 non-null     object \n",
            " 2   Equality Score  37 non-null     int64  \n",
            " 3   Equality class  0 non-null      float64\n",
            "dtypes: float64(1), int64(1), object(2)\n",
            "memory usage: 1.3+ KB\n",
            "None\n"
          ]
        }
      ]
    },
    {
      "cell_type": "markdown",
      "source": [
        "# New Section"
      ],
      "metadata": {
        "id": "nPDOzyIpGSZd"
      }
    },
    {
      "cell_type": "code",
      "source": [
        "import numpy as np\n",
        "\n",
        "# Ensure you have loaded your DataFrame 'df' from Step 1 before running this code.\n",
        "# For example:\n",
        "# import pandas as pd\n",
        "# df = pd.read_csv(\"Task 5 Equality Table.xlsx - Sheet1.csv\")\n",
        "\n",
        "# Define the conditions for each 'Equality class'\n",
        "# Conditions are evaluated in order. The first condition that is True will determine the class.\n",
        "conditions = [\n",
        "    # Condition for 'Highly Discriminative'\n",
        "    (df['Equality Score'] <= -20) | (df['Equality Score'] >= 20),\n",
        "\n",
        "    # Condition for 'Fair'\n",
        "    (df['Equality Score'] >= -10) & (df['Equality Score'] <= 10)\n",
        "]\n",
        "\n",
        "# Define the corresponding choices for each condition\n",
        "choices = [\n",
        "    'Highly Discriminative',\n",
        "    'Fair'\n",
        "]\n",
        "\n",
        "# Apply the conditions to create the 'Equality class' column\n",
        "# Any score that doesn't meet the above conditions will be classified as 'Unfair' (the default)\n",
        "df['Equality class'] = np.select(conditions, choices, default='Unfair')\n",
        "\n",
        "print(\"\\n'Equality class' column created successfully! Here are the first few rows with the new column:\")\n",
        "print(df.head())\n",
        "\n",
        "# Optional: Verify some specific examples to ensure the logic is correct\n",
        "print(\"\\nVerification Examples:\")\n",
        "print(\"Score 10 -> Expected: Fair, Actual:\", df[df['Equality Score'] == 10]['Equality class'].iloc[0] if not df[df['Equality Score'] == 10].empty else \"N/A\")\n",
        "print(\"Score -9 -> Expected: Unfair, Actual:\", df[df['Equality Score'] == -9]['Equality class'].iloc[0] if not df[df['Equality Score'] == -9].empty else \"N/A\")\n",
        "print(\"Score -30 -> Expected: Highly Discriminative, Actual:\", df[df['Equality Score'] == -30]['Equality class'].iloc[0] if not df[df['Equality Score'] == -30].empty else \"N/A\")\n",
        "print(\"Score 15 -> Expected: Unfair, Actual:\", df[df['Equality Score'] == 15]['Equality class'].iloc[0] if not df[df['Equality Score'] == 15].empty else \"N/A\")\n",
        "print(\"Score -25 -> Expected: Highly Discriminative, Actual:\", df[df['Equality Score'] == -25]['Equality class'].iloc[0] if not df[df['Equality Score'] == -25].empty else \"N/A\")\n"
      ],
      "metadata": {
        "colab": {
          "base_uri": "https://localhost:8080/"
        },
        "id": "sN5Xs19hNHCO",
        "outputId": "b5a48888-1ba4-4636-f0e0-6bc055808dcb"
      },
      "execution_count": null,
      "outputs": [
        {
          "output_type": "stream",
          "name": "stdout",
          "text": [
            "\n",
            "'Equality class' column created successfully! Here are the first few rows with the new column:\n",
            "                 Factory     Job Role  Equality Score         Equality class\n",
            "0  Daikibo Factory Meiyo      C-Level             -25  Highly Discriminative\n",
            "1  Daikibo Factory Meiyo           VP             -26  Highly Discriminative\n",
            "2  Daikibo Factory Meiyo     Director             -19                 Unfair\n",
            "3  Daikibo Factory Meiyo  Sr. Manager             -15                 Unfair\n",
            "4  Daikibo Factory Meiyo      Manager             -14                 Unfair\n",
            "\n",
            "Verification Examples:\n",
            "Score 10 -> Expected: Fair, Actual: N/A\n",
            "Score -9 -> Expected: Unfair, Actual: N/A\n",
            "Score -30 -> Expected: Highly Discriminative, Actual: N/A\n",
            "Score 15 -> Expected: Unfair, Actual: N/A\n",
            "Score -25 -> Expected: Highly Discriminative, Actual: Highly Discriminative\n"
          ]
        }
      ]
    },
    {
      "cell_type": "code",
      "source": [
        "# Define the output file path for the edited Excel file\n",
        "output_file_path = \"Task 5 Equality Table_edited.xlsx\"\n",
        "\n",
        "try:\n",
        "    # Save the DataFrame 'df' to a new Excel file\n",
        "    df.to_excel(output_file_path, index=False)\n",
        "    print(f\"\\nSuccessfully saved the updated data to: {output_file_path}\")\n",
        "\n",
        "except Exception as e:\n",
        "    print(f\"An error occurred while saving the Excel file: {e}\")"
      ],
      "metadata": {
        "id": "aEsvr-ZGOdT3",
        "outputId": "88050d37-be06-4f77-b10c-460e34beda01",
        "colab": {
          "base_uri": "https://localhost:8080/"
        }
      },
      "execution_count": null,
      "outputs": [
        {
          "output_type": "stream",
          "name": "stdout",
          "text": [
            "\n",
            "Successfully saved the updated data to: Task 5 Equality Table_edited.xlsx\n"
          ]
        }
      ]
    },
    {
      "cell_type": "code",
      "source": [],
      "metadata": {
        "id": "nKM6T3G6Oema"
      },
      "execution_count": null,
      "outputs": []
    }
  ]
}